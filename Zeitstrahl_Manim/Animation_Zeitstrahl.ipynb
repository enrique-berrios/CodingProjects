{
 "cells": [
  {
   "cell_type": "markdown",
   "metadata": {},
   "source": [
    "# Animation Zeitstrahl Manim\n",
    "\n",
    "In diesem Jupyter Notebook wird ein Zeitstrahl animiert, welcher eine Intuition für reale Zahlen geben soll."
   ]
  },
  {
   "cell_type": "code",
   "execution_count": 2,
   "metadata": {},
   "outputs": [],
   "source": [
    "import manim as mn\n",
    "import numpy as np"
   ]
  },
  {
   "cell_type": "code",
   "execution_count": null,
   "metadata": {},
   "outputs": [],
   "source": [
    "class createCircle(Scene):\n",
    "    def construct(self):\n",
    "        circle = Circle() # create circle\n",
    "        circle.set_fill(Pink, opacity = 0.5) # set the color and transparency\n",
    "        self.play(createCircle)\n",
    "\n",
    "createCircle()"
   ]
  }
 ],
 "metadata": {
  "kernelspec": {
   "display_name": "animation",
   "language": "python",
   "name": "python3"
  },
  "language_info": {
   "codemirror_mode": {
    "name": "ipython",
    "version": 3
   },
   "file_extension": ".py",
   "mimetype": "text/x-python",
   "name": "python",
   "nbconvert_exporter": "python",
   "pygments_lexer": "ipython3",
   "version": "3.12.7"
  }
 },
 "nbformat": 4,
 "nbformat_minor": 2
}
