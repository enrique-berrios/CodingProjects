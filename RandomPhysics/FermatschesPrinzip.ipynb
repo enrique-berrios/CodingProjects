{
 "cells": [
  {
   "cell_type": "code",
   "execution_count": 6,
   "metadata": {},
   "outputs": [],
   "source": [
    "import numpy as np\n",
    "from manim import *"
   ]
  },
  {
   "cell_type": "markdown",
   "metadata": {},
   "source": [
    "# Fermatsches Prinzip\n",
    "\n",
    "Die Aufgabe ist es, den schnellsten Weg von Licht zu berechnen. Punkt A ist dabei eine Lichtquelle und Punkt B ist der Beobachtungspunkt. Die Lichtquelle befindet sich in Medium 1 mit Ausbreitungsgeschwindigkeit von $v_1$ und der Beobachtungspunkt befindet sich in Medium 2 mit einer Ausbreitungsgeschwindigkeit von $v_2$.\n",
    "\n",
    "Medium 1 ist Luft und Medium 2 ist Wasser."
   ]
  },
  {
   "cell_type": "code",
   "execution_count": 3,
   "metadata": {},
   "outputs": [],
   "source": [
    "'''\n",
    "Hier berechne ich den Weg den der Lichtstrahl zurücklegen muss um von A nach B zu gelangen. \n",
    "Zuerst benötigen wir den Winkel alpha unter dem der Lichtstrahl auf die Grenzfläche trifft,\n",
    "sowie den Abstand delta_z, wecher der minimale Abstand von A zur Grenzschicht.\n",
    "\n",
    "alpha, beta [°]\n",
    "z, x [m]\n",
    "v [m/s]\n",
    "\n",
    "Die Lichtbrechung wird mit dem Selliuschen Brechungsgesetz berechnet.\n",
    "\n",
    "sin(alpha)/v1 = sin(beta)/v2\n",
    "\n",
    "Dabei ist der Winkel beta der Brechungswinkel.\n",
    "'''\n",
    "# Definition des Raumes 2D x(z)\n",
    "\n",
    "# Definition der Medien\n",
    "v1 = 10\n",
    "v2 = 3\n",
    "\n",
    "# Definition des Einfallswinkel\n",
    "alpha = 15\n",
    "\n",
    "# Definition der Lichtquelle in Medium 1 und Beobachtungspunkt in Medium 2, sowie Position Grenzfläche\n",
    "A = [5,10]\n",
    "B = [10,0]\n",
    "\n",
    "z_grenzfläche = 5\n",
    "\n",
    "# Berechnung des Brechungswinkels\n",
    "beta = np.arcsin(np.sin(alpha)/v1*v2)"
   ]
  },
  {
   "cell_type": "code",
   "execution_count": 4,
   "metadata": {},
   "outputs": [
    {
     "data": {
      "text/plain": [
       "1.4176274915425147"
      ]
     },
     "execution_count": 4,
     "metadata": {},
     "output_type": "execute_result"
    }
   ],
   "source": [
    "'''\n",
    "Hier berechne ich die Zeit die Licht braucht um die Distanz s_1 bzw s_2 zurückzulegen.\n",
    "\n",
    "Anschließend werden die Zeiten summiert um die gesamte Zeit zu berechnen die das Licht von A nach B braucht.\n",
    "'''\n",
    "delta_z1 = abs(int(A[1])-z_grenzfläche)\n",
    "delta_z2 = abs(int(B[1])-z_grenzfläche)\n",
    "\n",
    "s1 = delta_z1 / np.sin(alpha)\n",
    "s2 = delta_z2 / np.sin(beta)\n",
    "\n",
    "t1 = v1 / s1\n",
    "t2 = v2 / s2\n",
    "\n",
    "tges = t1 + t2\n",
    "\n",
    "tges"
   ]
  },
  {
   "cell_type": "code",
   "execution_count": 5,
   "metadata": {},
   "outputs": [
    {
     "data": {
      "text/plain": [
       "'\\nHier wird das Ergebnis als Animation dargestellt.\\n\\nVon Punkt A, welcher im Koordinatensystem dargestellt ist, möchte ich ein Vektor aussenden, welcher bis zur Grenzschicht läuft\\nund einen weiteren Vektor, welcher von der Grenzschicht weiterläuft zum Punkt B.\\n\\nOptional:\\n    \\n    Der Vektor welcher zur Grenzschicht läuft, soll keinen Vektorpfeil besitzen. Ist das möglich? Wenn ja, wie lautet die Funktion?\\n    \\n'"
      ]
     },
     "execution_count": 5,
     "metadata": {},
     "output_type": "execute_result"
    }
   ],
   "source": [
    "'''\n",
    "Hier wird das Ergebnis als Animation dargestellt.\n",
    "\n",
    "Von Punkt A, welcher im Koordinatensystem dargestellt ist, möchte ich ein Vektor aussenden, welcher bis zur Grenzschicht läuft\n",
    "und einen weiteren Vektor, welcher von der Grenzschicht weiterläuft zum Punkt B.\n",
    "\n",
    "Optional:\n",
    "    \n",
    "    Der Vektor welcher zur Grenzschicht läuft, soll keinen Vektorpfeil besitzen. Ist das möglich? Wenn ja, wie lautet die Funktion?\n",
    "    \n",
    "'''\n",
    "\n"
   ]
  }
 ],
 "metadata": {
  "kernelspec": {
   "display_name": "animation",
   "language": "python",
   "name": "python3"
  },
  "language_info": {
   "codemirror_mode": {
    "name": "ipython",
    "version": 3
   },
   "file_extension": ".py",
   "mimetype": "text/x-python",
   "name": "python",
   "nbconvert_exporter": "python",
   "pygments_lexer": "ipython3",
   "version": "3.12.7"
  }
 },
 "nbformat": 4,
 "nbformat_minor": 2
}
