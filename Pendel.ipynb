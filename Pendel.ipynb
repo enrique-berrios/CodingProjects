{
 "cells": [
  {
   "cell_type": "markdown",
   "metadata": {},
   "source": [
    "# Pendel\n",
    "\n",
    "Ziel dieses Projektes, ist es die Gewöhnliche Differentialgleichung für einen harmonischen Oszillator zu berechnen und grafisch zu visualisieren.\n",
    "\n",
    "Grundlage dieses Codes ist ein Video von 3b1b https://www.youtube.com/watch?v=p_di4Zn4wz4&list=PLZHQObOWTQDNPOjrT6KVlfJuKtYTftqH6\n",
    "\n",
    "$$ \\ddot \\theta =  \\mu \\cdot \\dot \\theta - \\frac{g}{L} \\cdot \\sin{\\theta}  $$"
   ]
  },
  {
   "cell_type": "code",
   "execution_count": 41,
   "metadata": {},
   "outputs": [
    {
     "name": "stdout",
     "output_type": "stream",
     "text": [
      "Theta: 1.0471975511965976, Theta_dot: -0.04247854605562672\n",
      "Theta: 1.0471975511965976, Theta_dot: -0.04247854605562672\n",
      "Theta: 1.0471975511965976, Theta_dot: -0.04247854605562672\n"
     ]
    },
    {
     "data": {
      "text/plain": [
       "1.0471975511965976"
      ]
     },
     "execution_count": 41,
     "metadata": {},
     "output_type": "execute_result"
    }
   ],
   "source": [
    "import numpy as np\n",
    "import matplotlib.pyplot as plt\n",
    "\n",
    "g = 9.81\n",
    "L = 2 # Länge des Pendels\n",
    "mu = 0.1 # Proportionalitätsfaktor für Dämpfung\n",
    "\n",
    "theta_0 = np.pi / 3 # 60 Grad Auslenkung bei t0\n",
    "theta_dot_0 = 0 # Anfangsgeschwindigkeit\n",
    "\n",
    "# Definieren gDGL\n",
    "def getThetaDoubleDot(theta, theta_dot):\n",
    "    return -mu * theta_dot - (g/L) *np.sin(theta)\n",
    "\n",
    "# Lösung der DGL\n",
    "def theta(t):\n",
    "    # Initialize changing values\n",
    "    theta = theta_0 # Auslenkungswinkel\n",
    "    theta_dot = theta_dot_0 # Geschwindigkeit\n",
    "    delta_t = 0.01 # Zeitschrittlänge\n",
    "\n",
    "    for time in np.arange(0, t, delta_t):\n",
    "        theta_double_dot = getThetaDoubleDot(theta, theta_dot)\n",
    "        theta += theta_dot * delta_t\n",
    "        theta_dot += theta_double_dot * delta_t\n",
    "\n",
    "        print(f'Theta: {theta}, Theta_dot: {theta_dot}') \n",
    "        return theta\n",
    "    \n",
    "       \n",
    "theta(1)\n",
    "theta(10)\n",
    "theta(100)"
   ]
  }
 ],
 "metadata": {
  "kernelspec": {
   "display_name": "NumSim_24_25",
   "language": "python",
   "name": "python3"
  },
  "language_info": {
   "codemirror_mode": {
    "name": "ipython",
    "version": 3
   },
   "file_extension": ".py",
   "mimetype": "text/x-python",
   "name": "python",
   "nbconvert_exporter": "python",
   "pygments_lexer": "ipython3",
   "version": "3.11.10"
  }
 },
 "nbformat": 4,
 "nbformat_minor": 2
}
